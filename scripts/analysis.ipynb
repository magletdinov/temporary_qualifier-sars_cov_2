{
 "cells": [
  {
   "cell_type": "code",
   "execution_count": 372,
   "id": "f22d3d79-d0bf-4ffd-84b0-feb7f1f3c15d",
   "metadata": {
    "tags": []
   },
   "outputs": [],
   "source": [
    "from pathlib import Path\n",
    "import pandas as pd\n",
    "import numpy as np\n",
    "import matplotlib.pyplot as plt\n",
    "import seaborn as sns\n",
    "from scipy.stats import gaussian_kde\n",
    "from datetime import datetime"
   ]
  },
  {
   "cell_type": "code",
   "execution_count": 17,
   "id": "ba7b7528-9365-4f19-8683-9639fe96edc1",
   "metadata": {
    "tags": []
   },
   "outputs": [],
   "source": [
    "from importlib.machinery import SourceFileLoader\n",
    "\n",
    "m = SourceFileLoader(\"m\",\"/export/home/agletdinov/work/git_projects/gitlab/collapse-pango-lineages/modules.py\").load_module()"
   ]
  },
  {
   "cell_type": "code",
   "execution_count": 3,
   "id": "ca835524-4015-445d-b355-c16631edddef",
   "metadata": {
    "tags": []
   },
   "outputs": [],
   "source": [
    "ROOT = Path().cwd().parent\n",
    "DATA = ROOT / \"data\""
   ]
  },
  {
   "cell_type": "code",
   "execution_count": 4,
   "id": "1a665055-4e98-43ab-8c58-0ff9b42ed291",
   "metadata": {
    "tags": []
   },
   "outputs": [],
   "source": [
    "df = pd.read_csv(DATA / \"ежедневный_расширенный_отчёт_2024-10-05 16-00-01.tsv.gz\",sep='\\t',quoting=3,\n",
    "                 usecols=[\"id последовательности\", \"Дата забора\", \"Pangolin\"],\n",
    "                 dtype={\"id последовательности\":\"str\",\n",
    "                        \"Pangolin\": str},\n",
    "                 parse_dates=['Дата забора'])"
   ]
  },
  {
   "cell_type": "code",
   "execution_count": 5,
   "id": "c97573a3-9293-45f4-929c-f8fb7120622a",
   "metadata": {
    "tags": []
   },
   "outputs": [
    {
     "data": {
      "text/plain": [
       "id последовательности            object\n",
       "Дата забора              datetime64[ns]\n",
       "Pangolin                         object\n",
       "dtype: object"
      ]
     },
     "execution_count": 5,
     "metadata": {},
     "output_type": "execute_result"
    }
   ],
   "source": [
    "df.dtypes"
   ]
  },
  {
   "cell_type": "code",
   "execution_count": 6,
   "id": "eceaf520-b3f8-47c7-a97e-ecbada49382f",
   "metadata": {
    "tags": []
   },
   "outputs": [
    {
     "data": {
      "text/plain": [
       "(332982, 3)"
      ]
     },
     "execution_count": 6,
     "metadata": {},
     "output_type": "execute_result"
    }
   ],
   "source": [
    "df.shape"
   ]
  },
  {
   "cell_type": "code",
   "execution_count": 7,
   "id": "df25c349-3a44-4c4c-ac79-903e3975dd7b",
   "metadata": {
    "tags": []
   },
   "outputs": [],
   "source": [
    "df.dropna(subset=[\"Pangolin\"], inplace=True)"
   ]
  },
  {
   "cell_type": "code",
   "execution_count": 8,
   "id": "ee3671e1-0567-4426-8f1c-ac328494f7bb",
   "metadata": {
    "tags": []
   },
   "outputs": [
    {
     "data": {
      "text/plain": [
       "(210258, 3)"
      ]
     },
     "execution_count": 8,
     "metadata": {},
     "output_type": "execute_result"
    }
   ],
   "source": [
    "df.shape"
   ]
  },
  {
   "cell_type": "code",
   "execution_count": 9,
   "id": "92c1d21b-83dd-4ab6-9be2-6b76c6963b5d",
   "metadata": {
    "tags": []
   },
   "outputs": [
    {
     "data": {
      "text/html": [
       "<div>\n",
       "<style scoped>\n",
       "    .dataframe tbody tr th:only-of-type {\n",
       "        vertical-align: middle;\n",
       "    }\n",
       "\n",
       "    .dataframe tbody tr th {\n",
       "        vertical-align: top;\n",
       "    }\n",
       "\n",
       "    .dataframe thead th {\n",
       "        text-align: right;\n",
       "    }\n",
       "</style>\n",
       "<table border=\"1\" class=\"dataframe\">\n",
       "  <thead>\n",
       "    <tr style=\"text-align: right;\">\n",
       "      <th></th>\n",
       "      <th>id последовательности</th>\n",
       "      <th>Дата забора</th>\n",
       "      <th>Pangolin</th>\n",
       "    </tr>\n",
       "  </thead>\n",
       "  <tbody>\n",
       "    <tr>\n",
       "      <th>0</th>\n",
       "      <td>crie000002</td>\n",
       "      <td>2020-12-28</td>\n",
       "      <td>B.1.1</td>\n",
       "    </tr>\n",
       "    <tr>\n",
       "      <th>1</th>\n",
       "      <td>crie000003</td>\n",
       "      <td>2020-12-28</td>\n",
       "      <td>B.1.1</td>\n",
       "    </tr>\n",
       "    <tr>\n",
       "      <th>40</th>\n",
       "      <td>crie000005</td>\n",
       "      <td>2020-03-27</td>\n",
       "      <td>B.1</td>\n",
       "    </tr>\n",
       "    <tr>\n",
       "      <th>41</th>\n",
       "      <td>crie000006</td>\n",
       "      <td>2020-11-06</td>\n",
       "      <td>B.1.1</td>\n",
       "    </tr>\n",
       "    <tr>\n",
       "      <th>42</th>\n",
       "      <td>crie000007</td>\n",
       "      <td>2020-11-06</td>\n",
       "      <td>B.1.1.397</td>\n",
       "    </tr>\n",
       "  </tbody>\n",
       "</table>\n",
       "</div>"
      ],
      "text/plain": [
       "   id последовательности Дата забора   Pangolin\n",
       "0             crie000002  2020-12-28      B.1.1\n",
       "1             crie000003  2020-12-28      B.1.1\n",
       "40            crie000005  2020-03-27        B.1\n",
       "41            crie000006  2020-11-06      B.1.1\n",
       "42            crie000007  2020-11-06  B.1.1.397"
      ]
     },
     "execution_count": 9,
     "metadata": {},
     "output_type": "execute_result"
    }
   ],
   "source": [
    "df.head()"
   ]
  },
  {
   "cell_type": "code",
   "execution_count": 10,
   "id": "ddd7c0ff-fa91-4ae4-bff1-b8af9c6265dd",
   "metadata": {
    "tags": []
   },
   "outputs": [
    {
     "data": {
      "text/plain": [
       "AY.122 Delta (B.1.617.2-like)               33039\n",
       "BA.5.2 Omicron (BA.5-like)                  19939\n",
       "BA.1.1 Omicron (BA.1-like)                  11900\n",
       "BA.5.2 Omicron (Unassigned)                  8141\n",
       "BA.2 Omicron (BA.2-like)                     7086\n",
       "                                            ...  \n",
       "XBB.1.9.2 Omicron (XBB.1.5-like)                1\n",
       "BA.2 Probable Omicron (BA.3-like)               1\n",
       "XBB.1.16.2 Probable Omicron (Unassigned)        1\n",
       "BA.1.21 Omicron (Unassigned)                    1\n",
       "LB.1.4 Probable Omicron (Unassigned)            1\n",
       "Name: Pangolin, Length: 2832, dtype: int64"
      ]
     },
     "execution_count": 10,
     "metadata": {},
     "output_type": "execute_result"
    }
   ],
   "source": [
    "df[\"Pangolin\"].value_counts()"
   ]
  },
  {
   "cell_type": "code",
   "execution_count": 28,
   "id": "b1d3e5a5-83ac-429f-9163-106f96223349",
   "metadata": {
    "tags": []
   },
   "outputs": [],
   "source": [
    "subdf = df.sample(frac=0.1, random_state=35)"
   ]
  },
  {
   "cell_type": "code",
   "execution_count": 29,
   "id": "3d796e98-4406-472e-8b13-a7c9a2899174",
   "metadata": {
    "tags": []
   },
   "outputs": [
    {
     "name": "stdout",
     "output_type": "stream",
     "text": [
      "CPU times: user 10.7 s, sys: 0 ns, total: 10.7 s\n",
      "Wall time: 10.7 s\n"
     ]
    }
   ],
   "source": [
    "%%time\n",
    "subdf[\"Pangolin_collapse\"] = subdf[\"Pangolin\"].apply(lambda x: modules.create_collapsed_strain(x))"
   ]
  },
  {
   "cell_type": "code",
   "execution_count": 31,
   "id": "8abf3205-888b-460e-9fd0-c6ab71f848b5",
   "metadata": {
    "tags": []
   },
   "outputs": [
    {
     "data": {
      "text/plain": [
       "BA.5* (Omicron)        5540\n",
       "AY* (Delta)            3692\n",
       "XBB* (Omicron)         2680\n",
       "BA.1* (Omicron)        1838\n",
       "BA* (Omicron)          1475\n",
       "B.1.1*                 1450\n",
       "FL* (Omicron)           633\n",
       "JN.1* (Omicron)         629\n",
       "XBB.1.16* (Omicron)     469\n",
       "B.1*                    458\n",
       "Other                   454\n",
       "BA.2.86* (Omicron)      300\n",
       "XBB.2.3* (Omicron)      240\n",
       "EG.5* (Omicron)         239\n",
       "BA.2* (Omicron)         213\n",
       "XBB.1.5* (Omicron)      191\n",
       "BA.2.75* (Omicron)      181\n",
       "BQ.1* (Omicron)         115\n",
       "JN.1.18* (Omicron)       46\n",
       "KS.1* (Omicron)          34\n",
       "KP.2* (Omicron)          32\n",
       "Q* (Alpha)               29\n",
       "B*                       28\n",
       "LB.1* (Omicron)          16\n",
       "KP.3* (Omicron)          13\n",
       "KP.1.1* (Omicron)        12\n",
       "BA.4* (Omicron)          10\n",
       "P.1* (Gamma)              5\n",
       "A*                        2\n",
       "C*                        1\n",
       "EU1*                      1\n",
       "Name: Pangolin_collapse, dtype: int64"
      ]
     },
     "execution_count": 31,
     "metadata": {},
     "output_type": "execute_result"
    }
   ],
   "source": [
    "subdf[\"Pangolin_collapse\"].value_counts()"
   ]
  },
  {
   "cell_type": "code",
   "execution_count": 44,
   "id": "80703e23-0d40-4d10-83e5-e097eda6379b",
   "metadata": {
    "tags": []
   },
   "outputs": [],
   "source": [
    "start_date = datetime(2020, 1, 1)\n",
    "\n",
    "# Преобразование даты в количество дней от 1 января 2020 года\n",
    "subdf['дни_с_2020'] = (subdf['Дата забора'] - start_date).dt.days"
   ]
  },
  {
   "cell_type": "code",
   "execution_count": 73,
   "id": "0ddeb3d6-a044-4b9a-bc2f-6efdbf15dfc3",
   "metadata": {
    "tags": []
   },
   "outputs": [
    {
     "data": {
      "text/html": [
       "<div>\n",
       "<style scoped>\n",
       "    .dataframe tbody tr th:only-of-type {\n",
       "        vertical-align: middle;\n",
       "    }\n",
       "\n",
       "    .dataframe tbody tr th {\n",
       "        vertical-align: top;\n",
       "    }\n",
       "\n",
       "    .dataframe thead th {\n",
       "        text-align: right;\n",
       "    }\n",
       "</style>\n",
       "<table border=\"1\" class=\"dataframe\">\n",
       "  <thead>\n",
       "    <tr style=\"text-align: right;\">\n",
       "      <th></th>\n",
       "      <th>id последовательности</th>\n",
       "      <th>Дата забора</th>\n",
       "      <th>Pangolin</th>\n",
       "      <th>Pangolin_collapse</th>\n",
       "      <th>дни_с_2020</th>\n",
       "    </tr>\n",
       "  </thead>\n",
       "  <tbody>\n",
       "    <tr>\n",
       "      <th>331943</th>\n",
       "      <td>crie072668</td>\n",
       "      <td>1979-02-28</td>\n",
       "      <td>LF.7 Omicron (BA.2-like)</td>\n",
       "      <td>JN.1* (Omicron)</td>\n",
       "      <td>-14917.0</td>\n",
       "    </tr>\n",
       "    <tr>\n",
       "      <th>76177</th>\n",
       "      <td>cspf002918</td>\n",
       "      <td>2020-02-03</td>\n",
       "      <td>B.1.1</td>\n",
       "      <td>B.1.1*</td>\n",
       "      <td>33.0</td>\n",
       "    </tr>\n",
       "    <tr>\n",
       "      <th>8652</th>\n",
       "      <td>infl001531</td>\n",
       "      <td>2020-03-15</td>\n",
       "      <td>B.1</td>\n",
       "      <td>B.1*</td>\n",
       "      <td>74.0</td>\n",
       "    </tr>\n",
       "    <tr>\n",
       "      <th>298229</th>\n",
       "      <td>crie057367</td>\n",
       "      <td>2020-03-30</td>\n",
       "      <td>B.1.1</td>\n",
       "      <td>B.1.1*</td>\n",
       "      <td>89.0</td>\n",
       "    </tr>\n",
       "    <tr>\n",
       "      <th>298208</th>\n",
       "      <td>crie057346</td>\n",
       "      <td>2020-03-30</td>\n",
       "      <td>B.1.1</td>\n",
       "      <td>B.1.1*</td>\n",
       "      <td>89.0</td>\n",
       "    </tr>\n",
       "    <tr>\n",
       "      <th>...</th>\n",
       "      <td>...</td>\n",
       "      <td>...</td>\n",
       "      <td>...</td>\n",
       "      <td>...</td>\n",
       "      <td>...</td>\n",
       "    </tr>\n",
       "    <tr>\n",
       "      <th>332683</th>\n",
       "      <td>novg000037</td>\n",
       "      <td>2024-09-23</td>\n",
       "      <td>KS.1 Omicron (BA.2-like)</td>\n",
       "      <td>JN.1* (Omicron)</td>\n",
       "      <td>1727.0</td>\n",
       "    </tr>\n",
       "    <tr>\n",
       "      <th>332333</th>\n",
       "      <td>rnip013359</td>\n",
       "      <td>2024-09-23</td>\n",
       "      <td>XEF Omicron (BA.2-like)</td>\n",
       "      <td>Other</td>\n",
       "      <td>1727.0</td>\n",
       "    </tr>\n",
       "    <tr>\n",
       "      <th>332463</th>\n",
       "      <td>micr027092</td>\n",
       "      <td>2024-09-23</td>\n",
       "      <td>LF.1.1 Omicron (BA.2-like)</td>\n",
       "      <td>JN.1* (Omicron)</td>\n",
       "      <td>1727.0</td>\n",
       "    </tr>\n",
       "    <tr>\n",
       "      <th>332852</th>\n",
       "      <td>petr000796</td>\n",
       "      <td>2024-09-25</td>\n",
       "      <td>KS.1 Omicron (Unassigned)</td>\n",
       "      <td>JN.1* (Omicron)</td>\n",
       "      <td>1729.0</td>\n",
       "    </tr>\n",
       "    <tr>\n",
       "      <th>332755</th>\n",
       "      <td>psko000261</td>\n",
       "      <td>2024-09-27</td>\n",
       "      <td>KP.3.1 Omicron (BA.2-like)</td>\n",
       "      <td>KP.3* (Omicron)</td>\n",
       "      <td>1731.0</td>\n",
       "    </tr>\n",
       "  </tbody>\n",
       "</table>\n",
       "<p>21004 rows × 5 columns</p>\n",
       "</div>"
      ],
      "text/plain": [
       "       id последовательности Дата забора                    Pangolin  \\\n",
       "331943            crie072668  1979-02-28    LF.7 Omicron (BA.2-like)   \n",
       "76177             cspf002918  2020-02-03                       B.1.1   \n",
       "8652              infl001531  2020-03-15                         B.1   \n",
       "298229            crie057367  2020-03-30                       B.1.1   \n",
       "298208            crie057346  2020-03-30                       B.1.1   \n",
       "...                      ...         ...                         ...   \n",
       "332683            novg000037  2024-09-23    KS.1 Omicron (BA.2-like)   \n",
       "332333            rnip013359  2024-09-23     XEF Omicron (BA.2-like)   \n",
       "332463            micr027092  2024-09-23  LF.1.1 Omicron (BA.2-like)   \n",
       "332852            petr000796  2024-09-25   KS.1 Omicron (Unassigned)   \n",
       "332755            psko000261  2024-09-27  KP.3.1 Omicron (BA.2-like)   \n",
       "\n",
       "       Pangolin_collapse  дни_с_2020  \n",
       "331943   JN.1* (Omicron)    -14917.0  \n",
       "76177             B.1.1*        33.0  \n",
       "8652                B.1*        74.0  \n",
       "298229            B.1.1*        89.0  \n",
       "298208            B.1.1*        89.0  \n",
       "...                  ...         ...  \n",
       "332683   JN.1* (Omicron)      1727.0  \n",
       "332333             Other      1727.0  \n",
       "332463   JN.1* (Omicron)      1727.0  \n",
       "332852   JN.1* (Omicron)      1729.0  \n",
       "332755   KP.3* (Omicron)      1731.0  \n",
       "\n",
       "[21004 rows x 5 columns]"
      ]
     },
     "execution_count": 73,
     "metadata": {},
     "output_type": "execute_result"
    }
   ],
   "source": [
    "subdf.sort_values(by=\"дни_с_2020\")"
   ]
  },
  {
   "cell_type": "code",
   "execution_count": 51,
   "id": "4dd52002-f1c7-440b-b662-e1ce8d539aff",
   "metadata": {
    "tags": []
   },
   "outputs": [
    {
     "data": {
      "text/html": [
       "<div>\n",
       "<style scoped>\n",
       "    .dataframe tbody tr th:only-of-type {\n",
       "        vertical-align: middle;\n",
       "    }\n",
       "\n",
       "    .dataframe tbody tr th {\n",
       "        vertical-align: top;\n",
       "    }\n",
       "\n",
       "    .dataframe thead th {\n",
       "        text-align: right;\n",
       "    }\n",
       "</style>\n",
       "<table border=\"1\" class=\"dataframe\">\n",
       "  <thead>\n",
       "    <tr style=\"text-align: right;\">\n",
       "      <th></th>\n",
       "      <th>id последовательности</th>\n",
       "      <th>Дата забора</th>\n",
       "      <th>Pangolin</th>\n",
       "      <th>Pangolin_collapse</th>\n",
       "      <th>дни_с_2020</th>\n",
       "    </tr>\n",
       "  </thead>\n",
       "  <tbody>\n",
       "    <tr>\n",
       "      <th>168025</th>\n",
       "      <td>obol009012</td>\n",
       "      <td>NaT</td>\n",
       "      <td>BA.5.2 Probable Omicron (Unassigned)</td>\n",
       "      <td>BA.5* (Omicron)</td>\n",
       "      <td>NaN</td>\n",
       "    </tr>\n",
       "    <tr>\n",
       "      <th>161259</th>\n",
       "      <td>obol008866</td>\n",
       "      <td>NaT</td>\n",
       "      <td>BA.5.2.24 Omicron (Unassigned)</td>\n",
       "      <td>BA.5* (Omicron)</td>\n",
       "      <td>NaN</td>\n",
       "    </tr>\n",
       "    <tr>\n",
       "      <th>152757</th>\n",
       "      <td>obol008166</td>\n",
       "      <td>NaT</td>\n",
       "      <td>BA.5.2 Probable Omicron (Unassigned)</td>\n",
       "      <td>BA.5* (Omicron)</td>\n",
       "      <td>NaN</td>\n",
       "    </tr>\n",
       "    <tr>\n",
       "      <th>168040</th>\n",
       "      <td>obol008994</td>\n",
       "      <td>NaT</td>\n",
       "      <td>BA.5.2 Probable Omicron (Unassigned)</td>\n",
       "      <td>BA.5* (Omicron)</td>\n",
       "      <td>NaN</td>\n",
       "    </tr>\n",
       "    <tr>\n",
       "      <th>154976</th>\n",
       "      <td>obol008226</td>\n",
       "      <td>NaT</td>\n",
       "      <td>BA.5.2 Probable Omicron (Unassigned)</td>\n",
       "      <td>BA.5* (Omicron)</td>\n",
       "      <td>NaN</td>\n",
       "    </tr>\n",
       "  </tbody>\n",
       "</table>\n",
       "</div>"
      ],
      "text/plain": [
       "       id последовательности Дата забора  \\\n",
       "168025            obol009012         NaT   \n",
       "161259            obol008866         NaT   \n",
       "152757            obol008166         NaT   \n",
       "168040            obol008994         NaT   \n",
       "154976            obol008226         NaT   \n",
       "\n",
       "                                    Pangolin Pangolin_collapse  дни_с_2020  \n",
       "168025  BA.5.2 Probable Omicron (Unassigned)   BA.5* (Omicron)         NaN  \n",
       "161259        BA.5.2.24 Omicron (Unassigned)   BA.5* (Omicron)         NaN  \n",
       "152757  BA.5.2 Probable Omicron (Unassigned)   BA.5* (Omicron)         NaN  \n",
       "168040  BA.5.2 Probable Omicron (Unassigned)   BA.5* (Omicron)         NaN  \n",
       "154976  BA.5.2 Probable Omicron (Unassigned)   BA.5* (Omicron)         NaN  "
      ]
     },
     "execution_count": 51,
     "metadata": {},
     "output_type": "execute_result"
    }
   ],
   "source": [
    "mask = subdf[\"дни_с_2020\"].isna()\n",
    "subdf[mask].head()"
   ]
  },
  {
   "cell_type": "code",
   "execution_count": 52,
   "id": "db048fcc-a66f-45fb-aad1-5958b3abce90",
   "metadata": {
    "tags": []
   },
   "outputs": [],
   "source": [
    "subdf.dropna(subset=[\"дни_с_2020\"], inplace=True)"
   ]
  },
  {
   "cell_type": "code",
   "execution_count": 468,
   "id": "c7e89c74-1d02-4207-af91-ecf54ba7f6e3",
   "metadata": {
    "tags": []
   },
   "outputs": [
    {
     "data": {
      "text/html": [
       "<div>\n",
       "<style scoped>\n",
       "    .dataframe tbody tr th:only-of-type {\n",
       "        vertical-align: middle;\n",
       "    }\n",
       "\n",
       "    .dataframe tbody tr th {\n",
       "        vertical-align: top;\n",
       "    }\n",
       "\n",
       "    .dataframe thead th {\n",
       "        text-align: right;\n",
       "    }\n",
       "</style>\n",
       "<table border=\"1\" class=\"dataframe\">\n",
       "  <thead>\n",
       "    <tr style=\"text-align: right;\">\n",
       "      <th></th>\n",
       "      <th>id последовательности</th>\n",
       "      <th>Дата забора</th>\n",
       "      <th>Pangolin</th>\n",
       "      <th>Pangolin_collapse</th>\n",
       "      <th>дни_с_2020</th>\n",
       "    </tr>\n",
       "  </thead>\n",
       "  <tbody>\n",
       "    <tr>\n",
       "      <th>331943</th>\n",
       "      <td>crie072668</td>\n",
       "      <td>1979-02-28</td>\n",
       "      <td>LF.7 Omicron (BA.2-like)</td>\n",
       "      <td>JN.1* (Omicron)</td>\n",
       "      <td>-14917.0</td>\n",
       "    </tr>\n",
       "    <tr>\n",
       "      <th>294750</th>\n",
       "      <td>vect017396</td>\n",
       "      <td>2023-12-18</td>\n",
       "      <td>JN.1.1 Omicron (BA.2-like)</td>\n",
       "      <td>JN.1* (Omicron)</td>\n",
       "      <td>1447.0</td>\n",
       "    </tr>\n",
       "    <tr>\n",
       "      <th>298622</th>\n",
       "      <td>crie061260</td>\n",
       "      <td>2024-01-05</td>\n",
       "      <td>JN.1.20 Omicron (BA.2-like)</td>\n",
       "      <td>JN.1* (Omicron)</td>\n",
       "      <td>1465.0</td>\n",
       "    </tr>\n",
       "    <tr>\n",
       "      <th>298617</th>\n",
       "      <td>crie061246</td>\n",
       "      <td>2024-01-07</td>\n",
       "      <td>JN.1.10 Omicron (BA.2-like)</td>\n",
       "      <td>JN.1* (Omicron)</td>\n",
       "      <td>1467.0</td>\n",
       "    </tr>\n",
       "    <tr>\n",
       "      <th>308263</th>\n",
       "      <td>obol018557</td>\n",
       "      <td>2024-01-07</td>\n",
       "      <td>JN.1.4 Omicron (BA.2-like)</td>\n",
       "      <td>JN.1* (Omicron)</td>\n",
       "      <td>1467.0</td>\n",
       "    </tr>\n",
       "    <tr>\n",
       "      <th>...</th>\n",
       "      <td>...</td>\n",
       "      <td>...</td>\n",
       "      <td>...</td>\n",
       "      <td>...</td>\n",
       "      <td>...</td>\n",
       "    </tr>\n",
       "    <tr>\n",
       "      <th>332775</th>\n",
       "      <td>rnip013212</td>\n",
       "      <td>2024-09-17</td>\n",
       "      <td>LF.1.1 Omicron (Unassigned)</td>\n",
       "      <td>JN.1* (Omicron)</td>\n",
       "      <td>1721.0</td>\n",
       "    </tr>\n",
       "    <tr>\n",
       "      <th>331896</th>\n",
       "      <td>crie072640</td>\n",
       "      <td>2024-09-17</td>\n",
       "      <td>KS.1 Omicron (BA.2-like)</td>\n",
       "      <td>JN.1* (Omicron)</td>\n",
       "      <td>1721.0</td>\n",
       "    </tr>\n",
       "    <tr>\n",
       "      <th>332683</th>\n",
       "      <td>novg000037</td>\n",
       "      <td>2024-09-23</td>\n",
       "      <td>KS.1 Omicron (BA.2-like)</td>\n",
       "      <td>JN.1* (Omicron)</td>\n",
       "      <td>1727.0</td>\n",
       "    </tr>\n",
       "    <tr>\n",
       "      <th>332463</th>\n",
       "      <td>micr027092</td>\n",
       "      <td>2024-09-23</td>\n",
       "      <td>LF.1.1 Omicron (BA.2-like)</td>\n",
       "      <td>JN.1* (Omicron)</td>\n",
       "      <td>1727.0</td>\n",
       "    </tr>\n",
       "    <tr>\n",
       "      <th>332852</th>\n",
       "      <td>petr000796</td>\n",
       "      <td>2024-09-25</td>\n",
       "      <td>KS.1 Omicron (Unassigned)</td>\n",
       "      <td>JN.1* (Omicron)</td>\n",
       "      <td>1729.0</td>\n",
       "    </tr>\n",
       "  </tbody>\n",
       "</table>\n",
       "<p>629 rows × 5 columns</p>\n",
       "</div>"
      ],
      "text/plain": [
       "       id последовательности Дата забора                     Pangolin  \\\n",
       "331943            crie072668  1979-02-28     LF.7 Omicron (BA.2-like)   \n",
       "294750            vect017396  2023-12-18   JN.1.1 Omicron (BA.2-like)   \n",
       "298622            crie061260  2024-01-05  JN.1.20 Omicron (BA.2-like)   \n",
       "298617            crie061246  2024-01-07  JN.1.10 Omicron (BA.2-like)   \n",
       "308263            obol018557  2024-01-07   JN.1.4 Omicron (BA.2-like)   \n",
       "...                      ...         ...                          ...   \n",
       "332775            rnip013212  2024-09-17  LF.1.1 Omicron (Unassigned)   \n",
       "331896            crie072640  2024-09-17     KS.1 Omicron (BA.2-like)   \n",
       "332683            novg000037  2024-09-23     KS.1 Omicron (BA.2-like)   \n",
       "332463            micr027092  2024-09-23   LF.1.1 Omicron (BA.2-like)   \n",
       "332852            petr000796  2024-09-25    KS.1 Omicron (Unassigned)   \n",
       "\n",
       "       Pangolin_collapse  дни_с_2020  \n",
       "331943   JN.1* (Omicron)    -14917.0  \n",
       "294750   JN.1* (Omicron)      1447.0  \n",
       "298622   JN.1* (Omicron)      1465.0  \n",
       "298617   JN.1* (Omicron)      1467.0  \n",
       "308263   JN.1* (Omicron)      1467.0  \n",
       "...                  ...         ...  \n",
       "332775   JN.1* (Omicron)      1721.0  \n",
       "331896   JN.1* (Omicron)      1721.0  \n",
       "332683   JN.1* (Omicron)      1727.0  \n",
       "332463   JN.1* (Omicron)      1727.0  \n",
       "332852   JN.1* (Omicron)      1729.0  \n",
       "\n",
       "[629 rows x 5 columns]"
      ]
     },
     "execution_count": 468,
     "metadata": {},
     "output_type": "execute_result"
    }
   ],
   "source": [
    "strain_df"
   ]
  },
  {
   "cell_type": "code",
   "execution_count": 470,
   "id": "29c27299-b5e5-47b3-998c-b545eaeb4d93",
   "metadata": {
    "tags": []
   },
   "outputs": [
    {
     "name": "stderr",
     "output_type": "stream",
     "text": [
      "/tmp/ipykernel_60243/2356475197.py:2: SettingWithCopyWarning: \n",
      "A value is trying to be set on a copy of a slice from a DataFrame\n",
      "\n",
      "See the caveats in the documentation: https://pandas.pydata.org/pandas-docs/stable/user_guide/indexing.html#returning-a-view-versus-a-copy\n",
      "  strain_df.sort_values(by=\"Дата забора\", inplace=True)\n"
     ]
    },
    {
     "data": {
      "image/png": "[encoded data removed]",
      "text/plain": [
       "<Figure size 640x480 with 1 Axes>"
      ]
     },
     "metadata": {},
     "output_type": "display_data"
    },
    {
     "data": {
      "text/plain": [
       "(3345.0, 19991.0)"
      ]
     },
     "execution_count": 470,
     "metadata": {},
     "output_type": "execute_result"
    },
    {
     "data": {
      "image/png": "[encoded data removed]",
      "text/plain": [
       "<Figure size 640x480 with 1 Axes>"
      ]
     },
     "metadata": {},
     "output_type": "display_data"
    }
   ],
   "source": [
    "strain_df = subdf[subdf[\"Pangolin_collapse\"] == \"JN.1* (Omicron)\"]\n",
    "strain_df.sort_values(by=\"Дата забора\", inplace=True)\n",
    "\n",
    "# Получение значений для KDE\n",
    "values = strain_df['дни_с_2020'].values\n",
    "\n",
    "# Построение KDE\n",
    "kde = gaussian_kde(values, bw_method=0.8)\n",
    "\n",
    "# Генерация числовых значений для оси X (например, все дни c 2020)\n",
    "x = np.arange(start=0, stop=365*5)\n",
    "\n",
    "# Оценка плотности для каждого дня в году\n",
    "density = kde(x)\n",
    "\n",
    "# Визуализация результатов\n",
    "xmin, xmax = strain_df[\"дни_с_2020\"].min(), strain_df[\"дни_с_2020\"].max()\n",
    "plt.plot(x, density, label='Плотность KDE')\n",
    "plt.xlim(xmin, xmax)\n",
    "plt.xlabel('День года')\n",
    "plt.ylabel('Плотность')\n",
    "plt.title('Ядровая оценка плотности для событий')\n",
    "plt.legend()\n",
    "plt.show()\n",
    "\n",
    "\n",
    "# Оценка вероятности для новых событий\n",
    "# Определение границ оси X\n",
    "xmin, xmax = strain_df[\"Дата забора\"].min(), strain_df[\"Дата забора\"].max()\n",
    "strain_df.groupby(by=\"Дата забора\").agg({\"Pangolin_collapse\":\"count\"}).plot()\n",
    "plt.xlim(xmin, xmax)"
   ]
  },
  {
   "cell_type": "code",
   "execution_count": 472,
   "id": "e8012c87-c1e8-4cbb-b1ee-525a29fc36b9",
   "metadata": {
    "tags": []
   },
   "outputs": [
    {
     "data": {
      "text/plain": [
       "<Axes: >"
      ]
     },
     "execution_count": 472,
     "metadata": {},
     "output_type": "execute_result"
    },
    {
     "data": {
      "image/png": "[encoded data removed]",
      "text/plain": [
       "<Figure size 640x480 with 1 Axes>"
      ]
     },
     "metadata": {},
     "output_type": "display_data"
    }
   ],
   "source": [
    "xmin, xmax = strain_df[\"дни_с_2020\"].min(), strain_df[\"дни_с_2020\"].max()\n",
    "threshold = np.percentile(density, 75)\n",
    "res = []\n",
    "for i in np.arange(xmin, xmax):\n",
    "    probability = kde(i)\n",
    "    #print(f'Вероятность события {new_date_day}: {probability[0]}')\n",
    "    #print((probability > threshold)[0])\n",
    "    res.append((probability > threshold)[0])\n",
    "sns.lineplot(x=[i for i in np.arange(xmin, xmax)], y=res)"
   ]
  },
  {
   "cell_type": "code",
   "execution_count": null,
   "id": "e3f5ab98-cd11-4125-b30c-aade9ee29489",
   "metadata": {},
   "outputs": [],
   "source": []
  },
  {
   "cell_type": "code",
   "execution_count": null,
   "id": "04d6c4b4-a6c2-4952-a5cb-954b8b9d40d4",
   "metadata": {},
   "outputs": [],
   "source": []
  },
  {
   "cell_type": "code",
   "execution_count": 474,
   "id": "bef6b6de-d544-4482-8f9a-b2980077545a",
   "metadata": {
    "tags": []
   },
   "outputs": [
    {
     "name": "stdout",
     "output_type": "stream",
     "text": [
      "Вероятность события -7628: 1.008001552132489e-47\n",
      "[False]\n",
      "CPU times: user 2.34 ms, sys: 0 ns, total: 2.34 ms\n",
      "Wall time: 2.1 ms\n"
     ]
    }
   ],
   "source": [
    "%%time\n",
    "new_date = '1999-02-12'\n",
    "new_date_day = (pd.to_datetime(new_date) - start_date).days\n",
    "probability = kde(new_date_day)\n",
    "print(f'Вероятность события {new_date_day}: {probability[0]}')\n",
    "print(probability > threshold)"
   ]
  },
  {
   "cell_type": "code",
   "execution_count": 309,
   "id": "07ef2f38-d8da-4e30-b8f3-865efea5b97a",
   "metadata": {
    "tags": []
   },
   "outputs": [
    {
     "data": {
      "text/plain": [
       "61"
      ]
     },
     "execution_count": 309,
     "metadata": {},
     "output_type": "execute_result"
    }
   ],
   "source": [
    "new_date = '03.02.20'\n",
    "new_date_day = (pd.to_datetime(new_date) - start_date).days\n",
    "new_date_day"
   ]
  },
  {
   "cell_type": "code",
   "execution_count": 306,
   "id": "a60f1ed5-c9f6-4f67-aeb7-4d1b7c79bbee",
   "metadata": {
    "tags": []
   },
   "outputs": [
    {
     "data": {
      "text/plain": [
       "33"
      ]
     },
     "execution_count": 306,
     "metadata": {},
     "output_type": "execute_result"
    }
   ],
   "source": [
    "new_date = '2020-02-03'\n",
    "new_date_day = (pd.to_datetime(new_date) - start_date).days\n",
    "new_date_day"
   ]
  },
  {
   "cell_type": "code",
   "execution_count": 310,
   "id": "eb4cf081-c934-4b4b-a928-a1f5a0766f58",
   "metadata": {
    "tags": []
   },
   "outputs": [
    {
     "data": {
      "text/plain": [
       "Timestamp('2020-03-02 00:00:00')"
      ]
     },
     "execution_count": 310,
     "metadata": {},
     "output_type": "execute_result"
    }
   ],
   "source": [
    "pd.to_datetime('03.02.20')"
   ]
  },
  {
   "cell_type": "code",
   "execution_count": 311,
   "id": "c2747324-9854-480f-9951-e20407a6fd03",
   "metadata": {
    "tags": []
   },
   "outputs": [
    {
     "data": {
      "text/plain": [
       "Timestamp('2020-02-03 00:00:00')"
      ]
     },
     "execution_count": 311,
     "metadata": {},
     "output_type": "execute_result"
    }
   ],
   "source": [
    "pd.to_datetime('2020-02-03')"
   ]
  },
  {
   "cell_type": "code",
   "execution_count": null,
   "id": "a24b8d2b-35ea-48bf-b872-305f40031446",
   "metadata": {},
   "outputs": [],
   "source": []
  }
 ],
 "metadata": {
  "kernelspec": {
   "display_name": "Python 3 (ipykernel)",
   "language": "python",
   "name": "python3"
  },
  "language_info": {
   "codemirror_mode": {
    "name": "ipython",
    "version": 3
   },
   "file_extension": ".py",
   "mimetype": "text/x-python",
   "name": "python",
   "nbconvert_exporter": "python",
   "pygments_lexer": "ipython3",
   "version": "3.10.11"
  }
 },
 "nbformat": 4,
 "nbformat_minor": 5
}
